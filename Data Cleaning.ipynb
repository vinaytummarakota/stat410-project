{
 "cells": [
  {
   "cell_type": "code",
   "execution_count": 1,
   "metadata": {},
   "outputs": [],
   "source": [
    "# IMPORT PYTHON MODULES\n",
    "import pandas as pd\n",
    "import numpy as np"
   ]
  },
  {
   "cell_type": "code",
   "execution_count": 2,
   "metadata": {},
   "outputs": [],
   "source": [
    "# IMPORT FOUR ACS DATASETS\n",
    "housing = pd.read_csv('Housing.csv')\n",
    "social = pd.read_csv('Social.csv')\n",
    "econ = pd.read_csv('Economic.csv')\n",
    "demo = pd.read_csv('Demographics.csv')"
   ]
  },
  {
   "cell_type": "code",
   "execution_count": 3,
   "metadata": {},
   "outputs": [],
   "source": [
    "housing.set_index('GEO_ID', inplace=True)\n",
    "social.set_index('GEO_ID', inplace=True)\n",
    "econ.set_index('GEO_ID', inplace=True)\n",
    "demo.set_index('GEO_ID', inplace=True)"
   ]
  },
  {
   "cell_type": "code",
   "execution_count": 4,
   "metadata": {},
   "outputs": [],
   "source": [
    "# MERGE ACS DATASETS\n",
    "complete = pd.concat([housing, social, econ, demo], axis=1, join=\"inner\")"
   ]
  },
  {
   "cell_type": "code",
   "execution_count": 5,
   "metadata": {},
   "outputs": [],
   "source": [
    "# SELECT RELEVANT VARIABLES\n",
    "filtered = complete[['DP03_0128PE', 'DP02_0067PE', 'DP05_0032PE', 'DP05_0072PE', 'DP05_0033PE', 'DP05_0073PE', 'DP05_0039PE',\n",
    "                   'DP05_0075PE', 'DP05_0034PE', 'DP05_0074PE', 'DP05_0047PE', 'DP05_0076PE', 'DP05_0052PE', 'DP05_0077PE', \n",
    "                   'DP05_0053PE', 'DP05_0078PE', 'DP04_0025PE', 'DP04_0024PE', 'DP04_0003PE', 'DP04_0045PE', 'DP02_0003PE']]"
   ]
  },
  {
   "cell_type": "code",
   "execution_count": 6,
   "metadata": {},
   "outputs": [
    {
     "name": "stderr",
     "output_type": "stream",
     "text": [
      "C:\\Users\\Srivinay Tummarakota\\anaconda3\\lib\\site-packages\\pandas\\core\\frame.py:3997: SettingWithCopyWarning: \n",
      "A value is trying to be set on a copy of a slice from a DataFrame\n",
      "\n",
      "See the caveats in the documentation: https://pandas.pydata.org/pandas-docs/stable/user_guide/indexing.html#returning-a-view-versus-a-copy\n",
      "  errors=errors,\n"
     ]
    }
   ],
   "source": [
    "new_cols = ['Poverty', 'Bachelor', 'White', 'White-NH', 'Black', 'Black-NH', 'Asian', 'Asian-NH', 'AmericanIndian', \n",
    "            'AmericanIndian-NH', 'NHPI', 'NHPI-NH', 'Other', 'Other-NH', 'Multi', 'Multi-NH', 'Pre-1939 Housing', \n",
    "           '1939-1949 Housing', 'VacantHousing', 'OwnerOccupied', 'FamiliesWithChildren']\n",
    "filtered.columns = new_cols\n",
    "filtered.drop(['id'], inplace=True)"
   ]
  },
  {
   "cell_type": "code",
   "execution_count": 7,
   "metadata": {},
   "outputs": [
    {
     "name": "stderr",
     "output_type": "stream",
     "text": [
      "C:\\Users\\Srivinay Tummarakota\\anaconda3\\lib\\site-packages\\pandas\\core\\indexing.py:1047: SettingWithCopyWarning: \n",
      "A value is trying to be set on a copy of a slice from a DataFrame.\n",
      "Try using .loc[row_indexer,col_indexer] = value instead\n",
      "\n",
      "See the caveats in the documentation: https://pandas.pydata.org/pandas-docs/stable/user_guide/indexing.html#returning-a-view-versus-a-copy\n",
      "  self.obj[item_labels[indexer[info_axis]]] = value\n",
      "C:\\Users\\Srivinay Tummarakota\\anaconda3\\lib\\site-packages\\pandas\\core\\indexing.py:965: SettingWithCopyWarning: \n",
      "A value is trying to be set on a copy of a slice from a DataFrame.\n",
      "Try using .loc[row_indexer,col_indexer] = value instead\n",
      "\n",
      "See the caveats in the documentation: https://pandas.pydata.org/pandas-docs/stable/user_guide/indexing.html#returning-a-view-versus-a-copy\n",
      "  self.obj[item] = s\n"
     ]
    }
   ],
   "source": [
    "# CONVERT COLUMN DATA TYPES TO NUMERIC\n",
    "for col in filtered.columns:\n",
    "    filtered.drop(filtered[filtered[col]=='-'].index, inplace=True)\n",
    "    filtered.loc[:, col] = pd.to_numeric(filtered.loc[:, col])"
   ]
  },
  {
   "cell_type": "code",
   "execution_count": 8,
   "metadata": {},
   "outputs": [
    {
     "name": "stderr",
     "output_type": "stream",
     "text": [
      "C:\\Users\\Srivinay Tummarakota\\anaconda3\\lib\\site-packages\\pandas\\core\\indexing.py:844: SettingWithCopyWarning: \n",
      "A value is trying to be set on a copy of a slice from a DataFrame.\n",
      "Try using .loc[row_indexer,col_indexer] = value instead\n",
      "\n",
      "See the caveats in the documentation: https://pandas.pydata.org/pandas-docs/stable/user_guide/indexing.html#returning-a-view-versus-a-copy\n",
      "  self.obj[key] = _infer_fill_value(value)\n"
     ]
    }
   ],
   "source": [
    "# CALCULATE % OF RACE THAT IS NON-HISPANIC\n",
    "races = ['White', 'Black', 'Asian', 'AmericanIndian', 'NHPI', 'Other', 'Multi']\n",
    "for race in races:\n",
    "    filtered.loc[:, race+'-H'] = filtered.loc[:, race]-filtered.loc[:, race+'-NH']"
   ]
  },
  {
   "cell_type": "code",
   "execution_count": 9,
   "metadata": {},
   "outputs": [],
   "source": [
    "# CALCULATE SIMPSON'S DIVERSITY INDEX\n",
    "races_ethnicities = [race+'-H' for race in races]+[race+'-NH' for race in races]\n",
    "pi = [filtered.loc[:, race]/100 for race in races_ethnicities]\n",
    "pi_complement = [1-col for col in pi]\n",
    "filtered.loc[:, 'SimpsonsDI'] = sum([pi[i]*pi_complement[i] for i in range(len(pi))])"
   ]
  },
  {
   "cell_type": "code",
   "execution_count": 10,
   "metadata": {},
   "outputs": [],
   "source": [
    "# CHANGE INDEX TO CENSUS TRACT NUMBER\n",
    "filtered.set_index(filtered.index.str[9:], inplace=True)"
   ]
  },
  {
   "cell_type": "code",
   "execution_count": 11,
   "metadata": {},
   "outputs": [],
   "source": [
    "# CALCULATE OLD-HOUSING AS PERCENTAGE OF ALL HOUSING BUILT PRIOR TO 1950\n",
    "filtered.loc[:, 'OldHousing'] = filtered.loc[:, 'Pre-1939 Housing'] + filtered.loc[:, '1939-1949 Housing']"
   ]
  },
  {
   "cell_type": "code",
   "execution_count": 12,
   "metadata": {},
   "outputs": [],
   "source": [
    "filtered.to_csv('filtered_data.csv')"
   ]
  },
  {
   "cell_type": "markdown",
   "metadata": {},
   "source": [
    "# Merge Lead and ACS Datasets"
   ]
  },
  {
   "cell_type": "code",
   "execution_count": 13,
   "metadata": {},
   "outputs": [],
   "source": [
    "lead = pd.read_csv('lead.csv')"
   ]
  },
  {
   "cell_type": "code",
   "execution_count": 14,
   "metadata": {},
   "outputs": [],
   "source": [
    "lead.dropna(how='any', inplace=True)"
   ]
  },
  {
   "cell_type": "code",
   "execution_count": 15,
   "metadata": {},
   "outputs": [],
   "source": [
    "lead.columns = ['GEO_ID', 'IsRedacted', 'NumBll5Plus', 'NumScreen', 'Pct5Plus']\n",
    "lead.set_index('GEO_ID', inplace=True)\n",
    "lead.index = lead.index.map(str)"
   ]
  },
  {
   "cell_type": "code",
   "execution_count": 19,
   "metadata": {},
   "outputs": [],
   "source": [
    "# MERGE ACS AND LEAD DATASETS\n",
    "merged = pd.concat([filtered, lead], axis=1, join=\"inner\")\n",
    "merged = merged[['Bachelor', 'Poverty', 'OldHousing', 'Black', 'SimpsonsDI', 'VacantHousing', 'OwnerOccupied', 'FamiliesWithChildren', 'Pct5Plus']]"
   ]
  },
  {
   "cell_type": "code",
   "execution_count": 20,
   "metadata": {},
   "outputs": [],
   "source": [
    "merged.to_csv('cleaned_data.csv')"
   ]
  },
  {
   "cell_type": "code",
   "execution_count": 21,
   "metadata": {},
   "outputs": [
    {
     "data": {
      "text/html": [
       "<div>\n",
       "<style scoped>\n",
       "    .dataframe tbody tr th:only-of-type {\n",
       "        vertical-align: middle;\n",
       "    }\n",
       "\n",
       "    .dataframe tbody tr th {\n",
       "        vertical-align: top;\n",
       "    }\n",
       "\n",
       "    .dataframe thead th {\n",
       "        text-align: right;\n",
       "    }\n",
       "</style>\n",
       "<table border=\"1\" class=\"dataframe\">\n",
       "  <thead>\n",
       "    <tr style=\"text-align: right;\">\n",
       "      <th></th>\n",
       "      <th>Bachelor</th>\n",
       "      <th>Poverty</th>\n",
       "      <th>OldHousing</th>\n",
       "      <th>Black</th>\n",
       "      <th>SimpsonsDI</th>\n",
       "      <th>VacantHousing</th>\n",
       "      <th>OwnerOccupied</th>\n",
       "      <th>FamiliesWithChildren</th>\n",
       "      <th>Pct5Plus</th>\n",
       "    </tr>\n",
       "    <tr>\n",
       "      <th>GEO_ID</th>\n",
       "      <th></th>\n",
       "      <th></th>\n",
       "      <th></th>\n",
       "      <th></th>\n",
       "      <th></th>\n",
       "      <th></th>\n",
       "      <th></th>\n",
       "      <th></th>\n",
       "      <th></th>\n",
       "    </tr>\n",
       "  </thead>\n",
       "  <tbody>\n",
       "    <tr>\n",
       "      <th>42101000100</th>\n",
       "      <td>79.8</td>\n",
       "      <td>11.7</td>\n",
       "      <td>65.7</td>\n",
       "      <td>10.5</td>\n",
       "      <td>0.438901</td>\n",
       "      <td>16.2</td>\n",
       "      <td>29.3</td>\n",
       "      <td>3.6</td>\n",
       "      <td>0.0</td>\n",
       "    </tr>\n",
       "    <tr>\n",
       "      <th>42101000402</th>\n",
       "      <td>74.5</td>\n",
       "      <td>10.7</td>\n",
       "      <td>19.3</td>\n",
       "      <td>2.0</td>\n",
       "      <td>0.212096</td>\n",
       "      <td>13.0</td>\n",
       "      <td>61.9</td>\n",
       "      <td>1.0</td>\n",
       "      <td>0.0</td>\n",
       "    </tr>\n",
       "    <tr>\n",
       "      <th>42101000600</th>\n",
       "      <td>80.0</td>\n",
       "      <td>22.5</td>\n",
       "      <td>83.9</td>\n",
       "      <td>10.3</td>\n",
       "      <td>0.475657</td>\n",
       "      <td>12.8</td>\n",
       "      <td>2.0</td>\n",
       "      <td>2.3</td>\n",
       "      <td>0.0</td>\n",
       "    </tr>\n",
       "    <tr>\n",
       "      <th>42101000700</th>\n",
       "      <td>77.5</td>\n",
       "      <td>28.8</td>\n",
       "      <td>53.0</td>\n",
       "      <td>11.0</td>\n",
       "      <td>0.587736</td>\n",
       "      <td>18.4</td>\n",
       "      <td>24.8</td>\n",
       "      <td>2.8</td>\n",
       "      <td>0.0</td>\n",
       "    </tr>\n",
       "    <tr>\n",
       "      <th>42101000803</th>\n",
       "      <td>85.3</td>\n",
       "      <td>14.9</td>\n",
       "      <td>36.0</td>\n",
       "      <td>0.5</td>\n",
       "      <td>0.216456</td>\n",
       "      <td>9.7</td>\n",
       "      <td>39.2</td>\n",
       "      <td>3.5</td>\n",
       "      <td>0.0</td>\n",
       "    </tr>\n",
       "  </tbody>\n",
       "</table>\n",
       "</div>"
      ],
      "text/plain": [
       "             Bachelor  Poverty  OldHousing  Black  SimpsonsDI  VacantHousing  \\\n",
       "GEO_ID                                                                         \n",
       "42101000100      79.8     11.7        65.7   10.5    0.438901           16.2   \n",
       "42101000402      74.5     10.7        19.3    2.0    0.212096           13.0   \n",
       "42101000600      80.0     22.5        83.9   10.3    0.475657           12.8   \n",
       "42101000700      77.5     28.8        53.0   11.0    0.587736           18.4   \n",
       "42101000803      85.3     14.9        36.0    0.5    0.216456            9.7   \n",
       "\n",
       "             OwnerOccupied  FamiliesWithChildren  Pct5Plus  \n",
       "GEO_ID                                                      \n",
       "42101000100           29.3                   3.6       0.0  \n",
       "42101000402           61.9                   1.0       0.0  \n",
       "42101000600            2.0                   2.3       0.0  \n",
       "42101000700           24.8                   2.8       0.0  \n",
       "42101000803           39.2                   3.5       0.0  "
      ]
     },
     "execution_count": 21,
     "metadata": {},
     "output_type": "execute_result"
    }
   ],
   "source": [
    "merged.head()"
   ]
  }
 ],
 "metadata": {
  "kernelspec": {
   "display_name": "Python 3",
   "language": "python",
   "name": "python3"
  },
  "language_info": {
   "codemirror_mode": {
    "name": "ipython",
    "version": 3
   },
   "file_extension": ".py",
   "mimetype": "text/x-python",
   "name": "python",
   "nbconvert_exporter": "python",
   "pygments_lexer": "ipython3",
   "version": "3.7.6"
  }
 },
 "nbformat": 4,
 "nbformat_minor": 4
}
